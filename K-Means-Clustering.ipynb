{
 "cells": [
  {
   "cell_type": "markdown",
   "id": "ae6bcbd4",
   "metadata": {},
   "source": [
    "---\n",
    "\n",
    "<h1><center>SDSE Lab 3 <br><br> K-means clustering </center></h1>\n",
    "\n",
    "---"
   ]
  },
  {
   "cell_type": "code",
   "execution_count": 14,
   "id": "07d1853b",
   "metadata": {
    "scrolled": true
   },
   "outputs": [],
   "source": [
    "import numpy as np\n",
    "import matplotlib.pyplot as plt\n",
    "import pickle\n",
    "import scipy.stats as stats"
   ]
  },
  {
   "cell_type": "markdown",
   "id": "c5c7f4c9",
   "metadata": {},
   "source": [
    "# 1) Load the data\n",
    "Use `pickle.load` to load `data2d.pickle`. This file contains a single matrix called `X`. Use variables `N` and `D` for the number of rows (samples) and columns (features) respectively."
   ]
  },
  {
   "cell_type": "code",
   "execution_count": 15,
   "id": "b3e89932",
   "metadata": {
    "scrolled": true
   },
   "outputs": [
    {
     "name": "stdout",
     "output_type": "stream",
     "text": [
      "[[ -1.85978534  -4.40482484]\n",
      " [ -5.41758393  -0.88382921]\n",
      " [ -5.02740031   4.79357145]\n",
      " [ -4.84057167  -1.03673624]\n",
      " [ -2.97873759   6.25945809]\n",
      " [ -6.83622735  -0.78426219]\n",
      " [ -7.11191649   8.11941977]\n",
      " [ -1.71960342   4.06415746]\n",
      " [ -2.03011292  -4.07247555]\n",
      " [ -6.63290986   5.80354133]\n",
      " [ -5.8960572   -3.1838544 ]\n",
      " [ -2.99852944   4.5280271 ]\n",
      " [ -9.76968752   7.61756396]\n",
      " [ -6.22734742  -1.22036737]\n",
      " [ -2.78236591  -1.23662457]\n",
      " [ -1.19077442  -4.17694009]\n",
      " [ -2.93781337   6.0601591 ]\n",
      " [ -8.92932721   9.19441228]\n",
      " [ -8.63132965   0.3561708 ]\n",
      " [ -0.3566098   -3.47836678]\n",
      " [ -9.39867164   7.58387579]\n",
      " [ -1.78744381  -2.43469831]\n",
      " [ -6.15245181  -1.45897667]\n",
      " [-10.0719509    7.05520883]\n",
      " [ -9.17495858   7.2341242 ]\n",
      " [ -9.13603292   0.11856472]\n",
      " [ -3.78746659   4.7888409 ]\n",
      " [ -6.34257339  -1.56679699]\n",
      " [ -9.08481601   7.06827728]\n",
      " [ -3.2603011    4.00308538]\n",
      " [ -2.61901088   4.63787521]\n",
      " [ -6.59012291  -2.52170334]\n",
      " [ -8.99831426   7.20539486]\n",
      " [ -6.08821437   4.70470828]\n",
      " [ -0.48967898  -2.77417839]\n",
      " [ -3.57450963  -1.79638793]\n",
      " [ -2.35882593  -3.10055664]\n",
      " [ -0.66368858  -2.9070704 ]\n",
      " [ -5.02624842  -2.29703593]\n",
      " [ -5.09498704  -2.67191826]\n",
      " [ -5.64230783   3.9650865 ]\n",
      " [ -5.42677166  -1.1720573 ]\n",
      " [ -6.5823221   -2.45450701]\n",
      " [ -4.64507642   4.89544439]\n",
      " [ -3.82755361   5.87091491]\n",
      " [ -0.03551385  -3.29290592]\n",
      " [ -4.52701513   5.73537787]\n",
      " [ -6.03461529  -2.2591604 ]\n",
      " [ -9.7198092   10.04601347]\n",
      " [  0.4971705   -3.64272456]\n",
      " [ -1.36570078  -1.9561886 ]\n",
      " [ -7.52755699   5.66010273]\n",
      " [ -0.21848494  -2.11291769]\n",
      " [ -5.59334514  -2.80698121]\n",
      " [ -2.8626644    2.17485309]\n",
      " [ -7.63074972  -2.76904847]\n",
      " [ -7.75826669   7.47867634]\n",
      " [ -8.6251105    8.19781042]\n",
      " [ -7.80759054   7.80631646]\n",
      " [ -0.94599769   4.44505465]\n",
      " [ -8.24599562   4.49209078]\n",
      " [ -7.92696717   9.41711745]\n",
      " [ -3.13477031   1.4552707 ]\n",
      " [ -3.00523531   5.16706341]\n",
      " [ -7.19332698   8.16768847]\n",
      " [ -6.84842623  -0.16249615]\n",
      " [ -1.46063215  -2.43616935]\n",
      " [ -8.17744137   0.26790349]\n",
      " [ -5.04101332   6.18015533]\n",
      " [-10.44703206   7.72201809]\n",
      " [ -6.05349139  -1.25783074]\n",
      " [ -6.88024894  -1.25187743]\n",
      " [ -8.72564694   8.20832659]\n",
      " [ -1.09292236  -4.45965534]\n",
      " [ -1.63322377  -2.26776675]\n",
      " [ -7.96608008   7.78281793]\n",
      " [ -3.99916035   1.93897063]\n",
      " [ -3.04876942  -5.6149575 ]\n",
      " [ -4.89580773   5.29772653]\n",
      " [ -1.21264844  -2.84482322]\n",
      " [-10.05775896   6.53177565]\n",
      " [ -4.14116784   5.07806628]\n",
      " [ -2.06198418  -2.09345545]\n",
      " [ -1.13836437  -3.79194563]\n",
      " [ -6.73123356   4.49339771]\n",
      " [ -1.85127543  -3.8913315 ]\n",
      " [ -4.54549943  -1.1402309 ]\n",
      " [ -2.84706434   6.34204619]\n",
      " [ -0.77775624  -2.95291382]\n",
      " [ -9.31752022   7.60132587]\n",
      " [ -8.50329887   6.60109884]\n",
      " [ -8.04325339   5.26822973]\n",
      " [ -2.91708713   3.58557513]\n",
      " [ -1.99598671  -1.87352565]\n",
      " [ -6.10047754   0.13857872]\n",
      " [ -4.44763598   5.49999834]\n",
      " [-11.22589865   6.65300577]\n",
      " [  1.24942216  -4.38731944]\n",
      " [ -6.86171541  -2.23591823]\n",
      " [ -1.53032822  -2.43193985]]\n"
     ]
    }
   ],
   "source": [
    "with open('data2d.pickle','rb') as file:\n",
    "    X = pickle.load(file)\n",
    "    \n",
    "N, D = np.shape(X)\n",
    "\n",
    "print(X)"
   ]
  },
  {
   "cell_type": "code",
   "execution_count": 16,
   "id": "de4191ed",
   "metadata": {
    "scrolled": true
   },
   "outputs": [],
   "source": [
    "result['N'] = N\n",
    "result['D'] = D "
   ]
  },
  {
   "cell_type": "markdown",
   "id": "61ef2d74",
   "metadata": {},
   "source": [
    "# 2) Scatter plot\n",
    "Create a scatter plot with the first column along the x-axis and the second column along the y-axis. Use `plt.axis('equal')` to force the two axes to have the same scale. This is important for correct visualization of the Euclidean distances between points. Save your figure handle to `fig2`."
   ]
  },
  {
   "cell_type": "code",
   "execution_count": 17,
   "id": "3cde9e19",
   "metadata": {
    "scrolled": true
   },
   "outputs": [
    {
     "data": {
      "text/plain": [
       "(-11.849664686869328,\n",
       " 1.873188199333136,\n",
       " -6.398006044898596,\n",
       " 10.829062019026559)"
      ]
     },
     "execution_count": 17,
     "metadata": {},
     "output_type": "execute_result"
    },
    {
     "data": {
      "image/png": "[encoded data removed]",
      "text/plain": [
       "<Figure size 360x360 with 1 Axes>"
      ]
     },
     "metadata": {
      "needs_background": "light"
     },
     "output_type": "display_data"
    }
   ],
   "source": [
    "fig2 = plt.figure(figsize=(5,5))\n",
    "x = X[:, 0]\n",
    "y = X[:, 1]\n",
    "plt.scatter(x,y)\n",
    "plt.axis('equal')"
   ]
  },
  {
   "cell_type": "code",
   "execution_count": 21,
   "id": "3cca4869",
   "metadata": {
    "scrolled": true
   },
   "outputs": [],
   "source": [
    "result['fig2'] = fig2"
   ]
  },
  {
   "cell_type": "markdown",
   "id": "6d08bf35",
   "metadata": {},
   "source": [
    "# 3) Initialize centroids\n",
    "Complete the function below that takes the number of centroids `K` and the data matrix `X` and returns `K` randomly placed centroids. The centroids should be selected according to a uniform distribution that spans a box fitted to the data. The return value should be a numpy array with shape `(K,D)` where `D` is the number of columns in X. Make sure this function  works for for values of `D` other than 2."
   ]
  },
  {
   "cell_type": "code",
   "execution_count": 22,
   "id": "8e633ef4",
   "metadata": {
    "scrolled": true
   },
   "outputs": [],
   "source": [
    "def initialize_centroids(K,X):\n",
    "    # Get the number of dimensions (columns) in X\n",
    "    D = X.shape[1]\n",
    "\n",
    "    # Find the minimum and maximum values of each dimension in X\n",
    "    min_vals = np.min(X, axis=0)\n",
    "    max_vals = np.max(X, axis=0)\n",
    "\n",
    "    # Initialize the centroids randomly within the range of the data using a uniform distribution\n",
    "    centroids = np.random.uniform(low=min_vals, high=max_vals, size=(K, D))\n",
    "\n",
    "    return centroids"
   ]
  },
  {
   "cell_type": "code",
   "execution_count": 23,
   "id": "27f93eec",
   "metadata": {
    "scrolled": true
   },
   "outputs": [],
   "source": [
    "result['C3'] = initialize_centroids(3,X)"
   ]
  },
  {
   "cell_type": "markdown",
   "id": "0552911e",
   "metadata": {},
   "source": [
    "# 4) Compute the assignment for given centroids\n",
    "Complete the function below that takes the data matrix and centroid locations, and returns an assignment matrix `gamma`. `gamma` should be a numpy array with shape `(N,K)`. Each row of `gamma` should contain `K-1` `False` values and one `True` value in the position corresponding to the centroid that is nearest to that data point (Euclidean distance). Hint: `np.argmin`."
   ]
  },
  {
   "cell_type": "code",
   "execution_count": 24,
   "id": "e7b76c6a",
   "metadata": {
    "scrolled": true
   },
   "outputs": [],
   "source": [
    "def assign_samples_to_nearest_centroid(X,C):\n",
    "    N = X.shape[0]\n",
    "    K = C.shape[0]\n",
    "    gamma = np.zeros((N,K),dtype=bool)\n",
    "    #print(X[:, np.newaxis, :] - C)\n",
    "    \n",
    "    # Euclidian distance of points\n",
    "    distances = np.linalg.norm(X[:, np.newaxis, :] - C, axis=2) # np.newaxis adds a new dimension to the array, finds norm of (points - centroid coords)\n",
    "\n",
    "    # Find the index of the nearest centroid for each data point\n",
    "    nearest_centroid = np.argmin(distances, axis=1)\n",
    "\n",
    "    # Set the corresponding element of gamma to True for each nearest centroid\n",
    "    gamma[np.arange(N), nearest_centroid] = True\n",
    "\n",
    "    return gamma"
   ]
  },
  {
   "cell_type": "code",
   "execution_count": 25,
   "id": "016d08cb",
   "metadata": {
    "scrolled": true
   },
   "outputs": [],
   "source": [
    "result['gamma4'] = assign_samples_to_nearest_centroid(X,result['C3'])"
   ]
  },
  {
   "attachments": {
    "image.png": {
     "image/png": "[encoded data removed]"
    }
   },
   "cell_type": "markdown",
   "id": "e3067c6c",
   "metadata": {},
   "source": [
    "# 5) Plot data, centroids, assignment\n",
    "Complete the function below that takes the data matrix, a set of centroids, and an assignment matrix and creates a scatter plot similar to the one shown here. The centroids should be indicated with a large dot, and the data samples should be color-coded according to their cluster membership. Your plot may not look identical to this one due to the random placement of the centroids.\n",
    "\n",
    "![image.png](attachment:image.png)"
   ]
  },
  {
   "cell_type": "code",
   "execution_count": 26,
   "id": "29aaa626",
   "metadata": {
    "scrolled": true
   },
   "outputs": [],
   "source": [
    "def plot_scatter(X, C, gamma):\n",
    "    K = gamma.shape[1]\n",
    "    fig = plt.figure(figsize=(5,5))\n",
    "\n",
    "    # Plot data points\n",
    "    colors = plt.cm.rainbow(np.linspace(0, 1, K)) # plt.cm.rainbow color-codes the dots\n",
    "    for k in range(K):\n",
    "        plt.scatter(X[gamma[:,k],0], X[gamma[:,k],1], color=colors[k])\n",
    "    \n",
    "    # Plot centroids\n",
    "    plt.scatter(C[:,0], C[:,1], s=200, marker='*', color='black')\n",
    "    \n",
    "    plt.show()\n",
    "    return fig"
   ]
  },
  {
   "cell_type": "code",
   "execution_count": 27,
   "id": "1ce03191",
   "metadata": {
    "scrolled": true
   },
   "outputs": [
    {
     "data": {
      "image/png": "[encoded data removed]",
      "text/plain": [
       "<Figure size 360x360 with 1 Axes>"
      ]
     },
     "metadata": {
      "needs_background": "light"
     },
     "output_type": "display_data"
    }
   ],
   "source": [
    "result['fig5'] = plot_scatter(X, result['C3'], result['gamma4'])"
   ]
  },
  {
   "cell_type": "markdown",
   "id": "947c54f5",
   "metadata": {},
   "source": [
    "---\n",
    "\n",
    "# An aside on boolean indexing\n",
    "\n",
    "Boolean indexing is a useful way of selecting a sub-array from a larger array according to some condition. \n",
    "\n",
    "For example, suppose we have an array `A` of length 4, consisting of the integers from 0 to 3. "
   ]
  },
  {
   "cell_type": "code",
   "execution_count": 28,
   "id": "1bd2fa40",
   "metadata": {
    "scrolled": true
   },
   "outputs": [],
   "source": [
    "A = np.arange(4)"
   ]
  },
  {
   "cell_type": "markdown",
   "id": "3ada21af",
   "metadata": {},
   "source": [
    "Here is how you can extract the zeroth and 2nd elements of `A` using boolean indexing:"
   ]
  },
  {
   "cell_type": "code",
   "execution_count": 29,
   "id": "fb71f41f",
   "metadata": {
    "scrolled": true
   },
   "outputs": [
    {
     "data": {
      "text/plain": [
       "array([0, 2])"
      ]
     },
     "execution_count": 29,
     "metadata": {},
     "output_type": "execute_result"
    }
   ],
   "source": [
    "A[[True,False,True,False]]"
   ]
  },
  {
   "cell_type": "markdown",
   "id": "53a1d881",
   "metadata": {},
   "source": [
    "That is, you pass the boolean array `[True,False,True,False]` as a `selector` to `A[selector]`. This technique is useful when the boolean selector is created with a condition on the values of `A`. For example, if you wanted to extract all the values that are greater than 1.4:"
   ]
  },
  {
   "cell_type": "code",
   "execution_count": 30,
   "id": "d11625f5",
   "metadata": {
    "scrolled": true
   },
   "outputs": [
    {
     "data": {
      "text/plain": [
       "array([2, 3])"
      ]
     },
     "execution_count": 30,
     "metadata": {},
     "output_type": "execute_result"
    }
   ],
   "source": [
    "selector = A>1.4\n",
    "A[selector]"
   ]
  },
  {
   "cell_type": "markdown",
   "id": "9069e66c",
   "metadata": {},
   "source": [
    "or simply:"
   ]
  },
  {
   "cell_type": "code",
   "execution_count": 31,
   "id": "2c1724b2",
   "metadata": {
    "scrolled": true
   },
   "outputs": [
    {
     "data": {
      "text/plain": [
       "array([2, 3])"
      ]
     },
     "execution_count": 31,
     "metadata": {},
     "output_type": "execute_result"
    }
   ],
   "source": [
    "A[A>1.4]"
   ]
  },
  {
   "cell_type": "markdown",
   "id": "ec850b9f",
   "metadata": {},
   "source": [
    "**Optional challenge:**\n",
    "    \n",
    "Define `A` as an array of integers from 0 to 9.\n",
    "1. Find the sum of elements of A that are even numbers.\n",
    "2. Find the sum of elements of A that are greater than seven."
   ]
  },
  {
   "cell_type": "code",
   "execution_count": 32,
   "id": "7e7f44f2",
   "metadata": {
    "scrolled": true
   },
   "outputs": [
    {
     "name": "stdout",
     "output_type": "stream",
     "text": [
      "[0 1 2 3 4 5 6 7 8 9]\n",
      "Sum of even elements in A: 20\n",
      "Sum of numbers in A that are greater than 7: 17\n"
     ]
    }
   ],
   "source": [
    "A = np.arange(10)\n",
    "print(A)\n",
    "even = sum([i for i in A if i % 2 == 0])\n",
    "gr7 = sum(A[A>7])\n",
    "print(\"Sum of even elements in A:\", even)\n",
    "print(\"Sum of numbers in A that are greater than 7:\", gr7)"
   ]
  },
  {
   "cell_type": "markdown",
   "id": "af4a8f0b",
   "metadata": {},
   "source": [
    "---"
   ]
  },
  {
   "cell_type": "markdown",
   "id": "a89c2001",
   "metadata": {},
   "source": [
    "# 6) Compute the centroids for a given assignment\n",
    "Complete the function below that takes the assignment and the data matrix and returns centroids placed at the mean of each cluster. The return value should be a numpy array with shape `(K,D)`. "
   ]
  },
  {
   "cell_type": "code",
   "execution_count": 33,
   "id": "f153f5b8",
   "metadata": {
    "scrolled": true
   },
   "outputs": [],
   "source": [
    "def place_centroids(gamma, X):\n",
    "    K = gamma.shape[1]\n",
    "    D = X.shape[1]\n",
    "    C = np.empty((K,D))\n",
    "    #print(gamma)\n",
    "    for i in range(K):\n",
    "        # Compute the mean of the data points assigned to cluster k for each column of gamma\n",
    "        gamma_columns = gamma[:,i]\n",
    "        points = X[gamma_columns] #returns values in X that are true for each gamma_column\n",
    "        cluster_mean = np.mean(points, axis=0) # finds mean for X values for any true value of gamma column\n",
    "        \n",
    "        # Assign the cluster mean to centroid k\n",
    "        C[i] = cluster_mean\n",
    "    \n",
    "    return C"
   ]
  },
  {
   "cell_type": "code",
   "execution_count": 34,
   "id": "7db69d58",
   "metadata": {
    "scrolled": true
   },
   "outputs": [],
   "source": [
    "result['C6'] = place_centroids(result['gamma4'], X)"
   ]
  },
  {
   "cell_type": "markdown",
   "id": "ab9c38b8",
   "metadata": {},
   "source": [
    "# 7) Code K-means\n",
    "Now we will implement the K-means algorithm using the methods that we've already coded. Replace each of the ellipses below with the appropriate code. "
   ]
  },
  {
   "cell_type": "code",
   "execution_count": 35,
   "id": "89847c52",
   "metadata": {
    "scrolled": true
   },
   "outputs": [],
   "source": [
    "def run_kmeans(X,C):\n",
    "    done = False\n",
    "    \n",
    "    while not done:\n",
    "        \n",
    "        # compute assignment (E step)\n",
    "        gamma = assign_samples_to_nearest_centroid(X, C)\n",
    "        \n",
    "        # place centroids (M step)\n",
    "        C_new = place_centroids(gamma, X)\n",
    "        \n",
    "        # Break if any of the clusters are empty\n",
    "        if np.any(np.isnan(C_new)):\n",
    "            C = None\n",
    "            gamma = None\n",
    "            break\n",
    "\n",
    "        # Break if there is no change in the assignment\n",
    "        if np.allclose(C, C_new): # returns True if elements of a and b in np.allclose(a,b) are close within a specified tolerance\n",
    "            done = True\n",
    "        else:\n",
    "            C = C_new\n",
    "\n",
    "    return C, gamma"
   ]
  },
  {
   "cell_type": "markdown",
   "id": "ae479469",
   "metadata": {},
   "source": [
    "# Test your code"
   ]
  },
  {
   "cell_type": "code",
   "execution_count": 36,
   "id": "b9f2f28a",
   "metadata": {
    "scrolled": true
   },
   "outputs": [
    {
     "data": {
      "image/png": "[encoded data removed]",
      "text/plain": [
       "<Figure size 360x360 with 1 Axes>"
      ]
     },
     "metadata": {
      "needs_background": "light"
     },
     "output_type": "display_data"
    },
    {
     "data": {
      "image/png": "[encoded data removed]",
      "text/plain": [
       "<Figure size 360x360 with 1 Axes>"
      ]
     },
     "execution_count": 36,
     "metadata": {},
     "output_type": "execute_result"
    }
   ],
   "source": [
    "R = run_kmeans(X,result['C3'])\n",
    "plot_scatter(X, R[0], R[1])"
   ]
  },
  {
   "cell_type": "code",
   "execution_count": 37,
   "id": "45f8737b",
   "metadata": {
    "scrolled": true
   },
   "outputs": [],
   "source": [
    "result['kmeans7'] = run_kmeans(X,result['C3'])"
   ]
  },
  {
   "cell_type": "markdown",
   "id": "c732e782",
   "metadata": {},
   "source": [
    "# 8) Evaluate the cost function \n",
    "Complete the function below that evaluates the cost function (total inertia) for a given data matrix, centroid placement, and assignment matrix. The result is a scalar value.\n",
    "\n",
    "$\n",
    "J = \\sum_{i=1}^{N} \\sum_{k=1}^{K} \\gamma_{i,k}( x_i - \\mu_k )^2 \n",
    "$"
   ]
  },
  {
   "cell_type": "code",
   "execution_count": 38,
   "id": "e93b0d8d",
   "metadata": {
    "scrolled": true
   },
   "outputs": [],
   "source": [
    "def eval_cost(X,C,gamma):\n",
    "    K = gamma.shape[1]\n",
    "    cost = 0\n",
    "    \n",
    "    for k in range(K):\n",
    "        Xk = X - C[k] #difference of (points - centroid coords) \n",
    "        #print(Xk)\n",
    "        cost = cost + np.sum(gamma[:,k] * np.linalg.norm(Xk, axis=1)**2) #multiplies True values of gamma columns with the difference (norm)\n",
    "    \n",
    "    #print(cost)\n",
    "    return cost"
   ]
  },
  {
   "cell_type": "code",
   "execution_count": 39,
   "id": "2025eb95",
   "metadata": {
    "scrolled": true
   },
   "outputs": [],
   "source": [
    "result['cost8'] = eval_cost(X,result['C3'],result['gamma4'])"
   ]
  },
  {
   "cell_type": "markdown",
   "id": "c90f8556",
   "metadata": {},
   "source": [
    "# 9) Ensemble run\n",
    "Complete the function below that runs kmeans `ensemblesize` times, each with a different initial centroid placement. These initial placements should be chosen with `initialize_centroids(K,X)`. The function should return the single run with the lowest cost. Results should be returned in a **dictionary** with keys `('C','gamma','cost')`. `C` are the best centroids, `gamma` is t|he best assignment, and `cost` is the corresponding cost."
   ]
  },
  {
   "cell_type": "code",
   "execution_count": 41,
   "id": "ac9244cd",
   "metadata": {
    "scrolled": true
   },
   "outputs": [],
   "source": [
    "def ensemble_run(K,X,ensemblesize):\n",
    "    best_run = {'C':None,'gamma':None,'cost':np.inf}\n",
    "    for e in range(ensemblesize):\n",
    "        \n",
    "        # This part chooses random initial centroids until a valid setting is found (one with no empty clusters)\n",
    "        done = False\n",
    "        while not done:\n",
    "            C = initialize_centroids(K,X)\n",
    "            C, gamma = run_kmeans(X,C)\n",
    "            done = C is not None\n",
    "\n",
    "        cost = eval_cost(X,C,gamma)\n",
    "       \n",
    "        # Keep track of the best run\n",
    "        if cost < best_run['cost']:\n",
    "            best_run['C'] = C\n",
    "            best_run['gamma'] = gamma\n",
    "            best_run['cost'] = cost\n",
    "               \n",
    "    return best_run"
   ]
  },
  {
   "cell_type": "code",
   "execution_count": 42,
   "id": "bd7a4a21",
   "metadata": {
    "scrolled": true
   },
   "outputs": [
    {
     "name": "stderr",
     "output_type": "stream",
     "text": [
      "C:\\Users\\brian\\anaconda3\\lib\\site-packages\\numpy\\core\\fromnumeric.py:3464: RuntimeWarning: Mean of empty slice.\n",
      "  return _methods._mean(a, axis=axis, dtype=dtype,\n",
      "C:\\Users\\brian\\anaconda3\\lib\\site-packages\\numpy\\core\\_methods.py:184: RuntimeWarning: invalid value encountered in divide\n",
      "  ret = um.true_divide(\n"
     ]
    }
   ],
   "source": [
    "result['ens9'] = ensemble_run(3,X,100)"
   ]
  },
  {
   "cell_type": "markdown",
   "id": "3fb53e1c",
   "metadata": {},
   "source": [
    "# 10) Iteration over K\n",
    "Complete the function below that takes the data matrix, a sample size, and a maximum number of clusters to consider (`maxK`).  The function should run `ensemble_run` for all values of `K` from 1 to `maxK`. It should return a numpy array of length `maxK-1` with the best case cost for each value of `K`."
   ]
  },
  {
   "cell_type": "code",
   "execution_count": 43,
   "id": "13703e3c",
   "metadata": {
    "scrolled": true
   },
   "outputs": [],
   "source": [
    "def K_iteration(X, ensemblesize, maxK=10):\n",
    "    allK = list(range(1,maxK))\n",
    "    best_cost = np.empty(len(allK))\n",
    "    \n",
    "    for i, K in enumerate(allK): #runs i (position of element in allK(0-8), and value of element in allK(1-9))\n",
    "        \n",
    "        best_run = ensemble_run(K, X, ensemblesize)\n",
    "        \n",
    "        best_cost[i] = best_run['cost']\n",
    "        \n",
    "    return best_cost"
   ]
  },
  {
   "cell_type": "markdown",
   "id": "1af594f7",
   "metadata": {},
   "source": [
    "# 11) Selecting K\n",
    "\n",
    "We now run `K_iteration` with `ensemblesize=200`, `maxK=10` and plot the result. The plot shows the percent improvement of each `K` over `K-1`. From this plot, choose an ideal value for `K` and report it in the results dictionary as `Kideal`."
   ]
  },
  {
   "cell_type": "code",
   "execution_count": 44,
   "id": "edf94549",
   "metadata": {
    "scrolled": true
   },
   "outputs": [
    {
     "data": {
      "text/plain": [
       "Text(0, 0.5, 'Percentage Improvement')"
      ]
     },
     "execution_count": 44,
     "metadata": {},
     "output_type": "execute_result"
    },
    {
     "data": {
      "image/png": "[encoded data removed]",
      "text/plain": [
       "<Figure size 576x360 with 1 Axes>"
      ]
     },
     "metadata": {
      "needs_background": "light"
     },
     "output_type": "display_data"
    }
   ],
   "source": [
    "ensemblesize = 200\n",
    "maxK=10\n",
    "best_cost = K_iteration(X, ensemblesize, maxK)\n",
    "\n",
    "fig11 = plt.figure(figsize=(8,5))\n",
    "allK = list(range(1,maxK)) # x is allK\n",
    "percent_improvement = 100*np.abs(np.diff(best_cost)) / best_cost[1:] # y = percent improvement\n",
    "plt.plot(allK[1:],percent_improvement,\n",
    "         linewidth=3,\n",
    "         marker='o',\n",
    "         markersize=8)\n",
    "plt.grid()\n",
    "plt.xticks(fontsize=16)\n",
    "plt.xlabel('Value of K')\n",
    "plt.yticks(fontsize=16)\n",
    "plt.ylabel('Percentage Improvement')"
   ]
  },
  {
   "cell_type": "code",
   "execution_count": 58,
   "id": "a4e1188c",
   "metadata": {
    "scrolled": true
   },
   "outputs": [],
   "source": [
    "#Kideal VALUE.\n",
    "\n",
    "Kideal = 4"
   ]
  }
 ],
 "metadata": {
  "kernelspec": {
   "display_name": "Python 3",
   "language": "python",
   "name": "python3"
  },
  "language_info": {
   "codemirror_mode": {
    "name": "ipython",
    "version": 3
   },
   "file_extension": ".py",
   "mimetype": "text/x-python",
   "name": "python",
   "nbconvert_exporter": "python",
   "pygments_lexer": "ipython3",
   "version": "3.8.3"
  },
  "vscode": {
   "interpreter": {
    "hash": "286402de7f8b6794c5432ef4a68589640d39d12f881cef5cbe295a8fbe7a70fa"
   }
  }
 },
 "nbformat": 4,
 "nbformat_minor": 5
}
